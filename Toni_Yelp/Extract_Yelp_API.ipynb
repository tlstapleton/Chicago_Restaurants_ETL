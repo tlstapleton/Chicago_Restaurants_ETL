{
 "cells": [
  {
   "cell_type": "code",
   "execution_count": 1,
   "metadata": {},
   "outputs": [],
   "source": [
    "import pandas as pd\n",
    "import numpy as np\n",
    "import requests\n",
    "import json\n",
    "import urllib\n",
    "from config import yelpapi"
   ]
  },
  {
   "cell_type": "code",
   "execution_count": 2,
   "metadata": {},
   "outputs": [],
   "source": [
    "\n",
    "headers={'Authorization' : yelpapi}"
   ]
  },
  {
   "cell_type": "code",
   "execution_count": 3,
   "metadata": {},
   "outputs": [],
   "source": [
    "#  params = {\n",
    "#         \"term\": 'restaurants',\n",
    "#         'location': 'Chicago, IL',\n",
    "#         'limit':50,\n",
    "#         'sort_by':'review_count'\n",
    "        \n",
    "#         }\n",
    "\n",
    "# base_url = \"https://api.yelp.com/v3/businesses/search\"\n",
    "\n",
    "# response = requests.request('GET',url=base_url, headers=headers, params=params)\n",
    "# location_data_1 = response.json()\n",
    "# # location_data_1"
   ]
  },
  {
   "cell_type": "code",
   "execution_count": 4,
   "metadata": {},
   "outputs": [],
   "source": [
    "#  params = {\n",
    "#         \"term\": 'restaurants',\n",
    "#         'location': 'Chicago, IL',\n",
    "#         'limit':50,\n",
    "#          'offset':50,\n",
    "#         'sort_by':'review_count'\n",
    "        \n",
    "#         }\n",
    "\n",
    "# base_url = \"https://api.yelp.com/v3/businesses/search\"\n",
    "\n",
    "# response = requests.request('GET',url=base_url, headers=headers, params=params)\n",
    "# location_data_2 = response.json()\n",
    "# # location_data_2"
   ]
  },
  {
   "cell_type": "code",
   "execution_count": 5,
   "metadata": {},
   "outputs": [],
   "source": [
    "location_data=[]\n",
    "for i in np.arange(0,20):\n",
    "    params = {\"term\": 'restaurants',\n",
    "            'location': 'Chicago, IL',\n",
    "            'limit':50,\n",
    "             'offset':(50*i),\n",
    "            'sort_by':'review_count'}\n",
    "\n",
    "    base_url = \"https://api.yelp.com/v3/businesses/search\"\n",
    "\n",
    "    response = requests.request('GET',url=base_url, headers=headers, params=params)\n",
    "    location_data.append(response.json())"
   ]
  },
  {
   "cell_type": "code",
   "execution_count": 6,
   "metadata": {},
   "outputs": [],
   "source": [
    "name=[]\n",
    "address1=[]\n",
    "address2=[]\n",
    "address3=[]\n",
    "city=[]\n",
    "state=[]\n",
    "zip_code=[]\n",
    "review_count=[]\n",
    "rating=[]\n",
    "price=[]\n",
    "lat=[]\n",
    "long=[]"
   ]
  },
  {
   "cell_type": "code",
   "execution_count": 7,
   "metadata": {},
   "outputs": [],
   "source": [
    "for x in np.arange(0,20):\n",
    "    for i in np.arange(0,50):\n",
    "        try:\n",
    "            name.append(location_data[x]['businesses'][i]['name'])\n",
    "        except:\n",
    "            name.append('none')\n",
    "        try:\n",
    "            address1.append(location_data[x]['businesses'][i]['location']['address1'])\n",
    "        except:\n",
    "            address1.append('none')\n",
    "        try:\n",
    "            address2.append(location_data[x]['businesses'][i]['location']['address2'])\n",
    "        except:\n",
    "            address2.append('none')\n",
    "        try:\n",
    "            address3.append(location_data[x]['businesses'][i]['location']['address3'])\n",
    "        except:\n",
    "            address3.append('none')\n",
    "        try:\n",
    "            city.append(location_data[x]['businesses'][i]['location']['city'])\n",
    "        except:\n",
    "            city.append('none')\n",
    "        try:\n",
    "            state.append(location_data[x]['businesses'][i]['location']['state'])\n",
    "        except:\n",
    "            state.append('none')\n",
    "        try:\n",
    "            zip_code.append(location_data[x]['businesses'][i]['location']['zip_code'])\n",
    "        except:\n",
    "            zip_code.append('none')\n",
    "        try:\n",
    "            lat.append(location_data[x]['businesses'][i]['coordinates']['latitude'])\n",
    "        except:\n",
    "            lat.append('none')\n",
    "        try:\n",
    "            long.append(location_data[x]['businesses'][i]['coordinates']['longitude'])\n",
    "        except:\n",
    "            long.append('none')\n",
    "        try:\n",
    "            review_count.append(location_data[x]['businesses'][i]['review_count'])\n",
    "        except:\n",
    "            review_count.append('none')\n",
    "        try:\n",
    "            rating.append(location_data[x]['businesses'][i]['rating'])\n",
    "        except:\n",
    "            rating.append('none')\n",
    "        try:\n",
    "            price.append(location_data[x]['businesses'][i]['price'])\n",
    "        except:\n",
    "            price.append('none')\n"
   ]
  },
  {
   "cell_type": "code",
   "execution_count": 8,
   "metadata": {},
   "outputs": [],
   "source": [
    "yelp_df=pd.DataFrame({'name': name,\n",
    "              'address1': address1,\n",
    "              'address2': address2,\n",
    "             'address3':address3,\n",
    "             'city':city,\n",
    "             'state':state,\n",
    "             'zip_code':zip_code,\n",
    "             'latitude':lat,\n",
    "             'longitude':long,\n",
    "             'review_count':review_count,\n",
    "             'rating':rating,\n",
    "             'price':price})"
   ]
  },
  {
   "cell_type": "code",
   "execution_count": 9,
   "metadata": {},
   "outputs": [],
   "source": [
    "yelp_df.to_csv('Extracted_Yelp_Data.csv')"
   ]
  },
  {
   "cell_type": "code",
   "execution_count": null,
   "metadata": {},
   "outputs": [],
   "source": []
  }
 ],
 "metadata": {
  "kernelspec": {
   "display_name": "Python 3",
   "language": "python",
   "name": "python3"
  },
  "language_info": {
   "codemirror_mode": {
    "name": "ipython",
    "version": 3
   },
   "file_extension": ".py",
   "mimetype": "text/x-python",
   "name": "python",
   "nbconvert_exporter": "python",
   "pygments_lexer": "ipython3",
   "version": "3.7.0"
  }
 },
 "nbformat": 4,
 "nbformat_minor": 2
}
