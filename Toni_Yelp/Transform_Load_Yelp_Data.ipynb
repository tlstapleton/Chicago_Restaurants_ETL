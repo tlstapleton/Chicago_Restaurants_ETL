{
 "cells": [
  {
   "cell_type": "code",
   "execution_count": null,
   "metadata": {},
   "outputs": [],
   "source": [
    "import pymongo\n",
    "import pandas as pd\n",
    "import numpy as np"
   ]
  },
  {
   "cell_type": "code",
   "execution_count": null,
   "metadata": {},
   "outputs": [],
   "source": [
    "yelp_df=pd.read_csv('Extracted_Yelp_Data.csv')"
   ]
  },
  {
   "cell_type": "code",
   "execution_count": null,
   "metadata": {},
   "outputs": [],
   "source": [
    "yelp_df.drop(['Unnamed: 0'], axis=1,inplace=True)"
   ]
  },
  {
   "cell_type": "code",
   "execution_count": null,
   "metadata": {},
   "outputs": [],
   "source": [
    "price=[]\n",
    "for i in np.arange(len(yelp_df['price'])):\n",
    "    price.append(yelp_df.iloc[i]['price'].count('$'))"
   ]
  },
  {
   "cell_type": "code",
   "execution_count": null,
   "metadata": {},
   "outputs": [],
   "source": [
    "yelp_df['price']=price"
   ]
  },
  {
   "cell_type": "code",
   "execution_count": null,
   "metadata": {},
   "outputs": [],
   "source": [
    "yelp_df=yelp_df[yelp_df['city']=='Chicago']"
   ]
  },
  {
   "cell_type": "code",
   "execution_count": null,
   "metadata": {},
   "outputs": [],
   "source": [
    "yelp_df = yelp_df.fillna('')"
   ]
  },
  {
   "cell_type": "code",
   "execution_count": null,
   "metadata": {},
   "outputs": [],
   "source": [
    "conn = 'mongodb://localhost:27017'\n",
    "client = pymongo.MongoClient(conn)"
   ]
  },
  {
   "cell_type": "code",
   "execution_count": null,
   "metadata": {},
   "outputs": [],
   "source": [
    "db = client.restaurantsDB\n",
    "collection = db.yelpdata"
   ]
  },
  {
   "cell_type": "code",
   "execution_count": null,
   "metadata": {},
   "outputs": [],
   "source": [
    "yelp_df.head()"
   ]
  },
  {
   "cell_type": "code",
   "execution_count": null,
   "metadata": {},
   "outputs": [],
   "source": [
    "for index, row in yelp_df.iterrows():\n",
    "    print(row['name'])\n"
   ]
  },
  {
   "cell_type": "code",
   "execution_count": null,
   "metadata": {},
   "outputs": [],
   "source": [
    "for index, row in yelp_df.iterrows():\n",
    "    name = row['name']\n",
    "    address1 = row['address1']\n",
    "    address2=row['address2']\n",
    "    address3=row['address3']\n",
    "    city=row['city']\n",
    "    state=row['state']\n",
    "    zip_code=row['zip_code']\n",
    "    latitude=row['latitude']\n",
    "    longitude=row['longitude']\n",
    "    review_count=row['review_count']\n",
    "    rating=row['rating']\n",
    "    price=row['price']\n",
    "#     print(address2)\n",
    "    # Dictionary to be inserted into MongoDB\n",
    "    post = {\n",
    "        'name': name,\n",
    "        'address1': address1,\n",
    "        'address2': address2,\n",
    "        'address3': address3,\n",
    "        'city':city,\n",
    "        'state':state,\n",
    "        'zip_code':zip_code,\n",
    "        'latitude':latitude,\n",
    "        'longitude':longitude,\n",
    "        'review_count':review_count,\n",
    "        'rating':rating,\n",
    "        'price':price\n",
    "    }\n",
    "\n",
    "    # Insert dictionary into MongoDB as a document\n",
    "    collection.insert_one(post)"
   ]
  },
  {
   "cell_type": "code",
   "execution_count": null,
   "metadata": {},
   "outputs": [],
   "source": [
    "# Display the MongoDB records created above\n",
    "restaurants = db.yelpdata.find()\n",
    "for restaurant in restaurants:\n",
    "    print(restaurant)"
   ]
  },
  {
   "cell_type": "code",
   "execution_count": null,
   "metadata": {},
   "outputs": [],
   "source": []
  }
 ],
 "metadata": {
  "kernelspec": {
   "display_name": "Python 3",
   "language": "python",
   "name": "python3"
  },
  "language_info": {
   "codemirror_mode": {
    "name": "ipython",
    "version": 3
   },
   "file_extension": ".py",
   "mimetype": "text/x-python",
   "name": "python",
   "nbconvert_exporter": "python",
   "pygments_lexer": "ipython3",
   "version": "3.7.2"
  }
 },
 "nbformat": 4,
 "nbformat_minor": 2
}
