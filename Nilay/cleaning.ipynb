{
 "cells": [
  {
   "cell_type": "code",
   "execution_count": null,
   "metadata": {},
   "outputs": [],
   "source": [
    "# import dependencies\n",
    "import pandas as pd\n",
    "import datetime as dt\n",
    "import pymongo"
   ]
  },
  {
   "cell_type": "code",
   "execution_count": null,
   "metadata": {},
   "outputs": [],
   "source": [
    "# load the dataframe\n",
    "\n",
    "file1=pd.read_csv('Business_Licenses.csv')\n",
    "# file2=pd.read_csv('Sidewalk_Cafe_Permits.csv')\n",
    "\n",
    "df1=pd.DataFrame(file1)\n",
    "# df2=pd.DataFrame(file2)\n",
    "df1.head()"
   ]
  },
  {
   "cell_type": "code",
   "execution_count": null,
   "metadata": {},
   "outputs": [],
   "source": [
    "\n",
    "df=df1[['ACCOUNT NUMBER','DOING BUSINESS AS NAME','ADDRESS','CITY','STATE','ZIP CODE','LICENSE DESCRIPTION',\n",
    "       'BUSINESS ACTIVITY ID','BUSINESS ACTIVITY','APPLICATION TYPE','LICENSE TERM START DATE',\n",
    "       'LICENSE TERM EXPIRATION DATE','DATE ISSUED', 'LICENSE STATUS','LATITUDE', 'LONGITUDE', 'LOCATION']]\n",
    "\n",
    "#Select the licenses for restaurant and equivalents using the BUSINESS ACTIVITY ID\n",
    "df=df.loc[(df['BUSINESS ACTIVITY ID']=='775')|\n",
    "          (df['BUSINESS ACTIVITY ID']=='782') |\n",
    "         (df['BUSINESS ACTIVITY ID']=='735')]\n",
    "\n",
    "df['license_id']=df.reset_index().index"
   ]
  },
  {
   "cell_type": "code",
   "execution_count": null,
   "metadata": {},
   "outputs": [],
   "source": [
    "df.to_csv('licenses.csv')"
   ]
  },
  {
   "cell_type": "code",
   "execution_count": null,
   "metadata": {},
   "outputs": [],
   "source": [
    "df=pd.DataFrame(pd.read_csv('licenses.csv'))"
   ]
  },
  {
   "cell_type": "code",
   "execution_count": null,
   "metadata": {},
   "outputs": [],
   "source": [
    "#Step 1 to get the list of active licences is to make a column for the year of expiration of the license\n",
    "#Step 2 is to create a column named 'is_active' with Boolean Values (True if the expiration is 2019 or above, else False)\n",
    "df['Expiration']=pd.to_datetime(df['LICENSE TERM EXPIRATION DATE']).dt.year\n",
    "df['is_active']=[True if value>2018 else False for value in df['Expiration']]"
   ]
  },
  {
   "cell_type": "code",
   "execution_count": null,
   "metadata": {},
   "outputs": [],
   "source": [
    "# Some business will have two active licenses at the same time because they may renew a license before its term\n",
    "# expires. So sort the df by the Expiration date. This will mean that those expiring the earlies will be at the bottom,\n",
    "# and then you can drop the duplicated and the duplicates at the bottom will be dropped\n",
    "# This ensures that you aren't dropping the most recent licenses (though its not a guarantee)\n",
    "\n",
    "active_df=df[df['is_active']==True].sort_values('Expiration',\n",
    "                                                ascending=False).drop_duplicates(subset=['ACCOUNT NUMBER'])\n",
    "active_df['active_id']=active_df.reset_index().index"
   ]
  },
  {
   "cell_type": "code",
   "execution_count": null,
   "metadata": {},
   "outputs": [],
   "source": [
    "\n",
    "active_licenses_table=active_df[['active_id','license_id','LICENSE DESCRIPTION','BUSINESS ACTIVITY ID',\n",
    "                                 'BUSINESS ACTIVITY','LICENSE TERM START DATE','LICENSE TERM EXPIRATION DATE']]\n",
    "\n",
    "licenses_table=df[['license_id','LICENSE DESCRIPTION','BUSINESS ACTIVITY ID','BUSINESS ACTIVITY','APPLICATION TYPE',\n",
    "                    'DATE ISSUED']]\n",
    "\n",
    "active_locations_table=active_df[['active_id','DOING BUSINESS AS NAME','LATITUDE','LONGITUDE','ADDRESS','CITY','STATE',\n",
    "                          'ZIP CODE']]"
   ]
  },
  {
   "cell_type": "code",
   "execution_count": null,
   "metadata": {},
   "outputs": [],
   "source": [
    "conn = 'mongodb://localhost:27017'\n",
    "client = pymongo.MongoClient(conn)"
   ]
  },
  {
   "cell_type": "code",
   "execution_count": null,
   "metadata": {},
   "outputs": [],
   "source": [
    "db = client.restaurantsDB\n"
   ]
  },
  {
   "cell_type": "code",
   "execution_count": null,
   "metadata": {},
   "outputs": [],
   "source": [
    "collection = db.active_licenses\n",
    "data=active_licenses_table.to_dict(orient='records')\n",
    "collection.insert_many(data)"
   ]
  },
  {
   "cell_type": "code",
   "execution_count": null,
   "metadata": {},
   "outputs": [],
   "source": [
    "collection=db.licenses\n",
    "data=licenses_table.to_dict(orient='records')\n",
    "collection.insert_many(data)"
   ]
  },
  {
   "cell_type": "code",
   "execution_count": null,
   "metadata": {},
   "outputs": [],
   "source": [
    "collection=db.active_locations\n",
    "data=active_locations_table.to_dict(orient='records')\n",
    "collection.insert_many(data)"
   ]
  },
  {
   "cell_type": "code",
   "execution_count": null,
   "metadata": {},
   "outputs": [],
   "source": [
    "help(active_locations_table.to_dict)"
   ]
  },
  {
   "cell_type": "code",
   "execution_count": null,
   "metadata": {},
   "outputs": [],
   "source": [
    "results = db.active_locations.find()\n",
    "for result in results:\n",
    "    print(result)"
   ]
  },
  {
   "cell_type": "code",
   "execution_count": null,
   "metadata": {},
   "outputs": [],
   "source": []
  }
 ],
 "metadata": {
  "kernelspec": {
   "display_name": "Python 3",
   "language": "python",
   "name": "python3"
  },
  "language_info": {
   "codemirror_mode": {
    "name": "ipython",
    "version": 3
   },
   "file_extension": ".py",
   "mimetype": "text/x-python",
   "name": "python",
   "nbconvert_exporter": "python",
   "pygments_lexer": "ipython3",
   "version": "3.7.2"
  }
 },
 "nbformat": 4,
 "nbformat_minor": 2
}
