{
 "cells": [
  {
   "cell_type": "code",
   "execution_count": 1,
   "metadata": {},
   "outputs": [],
   "source": [
    "import pandas as pd\n",
    "import datetime as dt\n",
    "import pymongo"
   ]
  },
  {
   "cell_type": "code",
   "execution_count": 2,
   "metadata": {},
   "outputs": [
    {
     "name": "stderr",
     "output_type": "stream",
     "text": [
      "C:\\Users\\nilay\\Anaconda3\\lib\\site-packages\\IPython\\core\\interactiveshell.py:2785: DtypeWarning: Columns (9,16,17) have mixed types. Specify dtype option on import or set low_memory=False.\n",
      "  interactivity=interactivity, compiler=compiler, result=result)\n"
     ]
    },
    {
     "data": {
      "text/html": [
       "<div>\n",
       "<style scoped>\n",
       "    .dataframe tbody tr th:only-of-type {\n",
       "        vertical-align: middle;\n",
       "    }\n",
       "\n",
       "    .dataframe tbody tr th {\n",
       "        vertical-align: top;\n",
       "    }\n",
       "\n",
       "    .dataframe thead th {\n",
       "        text-align: right;\n",
       "    }\n",
       "</style>\n",
       "<table border=\"1\" class=\"dataframe\">\n",
       "  <thead>\n",
       "    <tr style=\"text-align: right;\">\n",
       "      <th></th>\n",
       "      <th>ID</th>\n",
       "      <th>LICENSE ID</th>\n",
       "      <th>ACCOUNT NUMBER</th>\n",
       "      <th>SITE NUMBER</th>\n",
       "      <th>LEGAL NAME</th>\n",
       "      <th>DOING BUSINESS AS NAME</th>\n",
       "      <th>ADDRESS</th>\n",
       "      <th>CITY</th>\n",
       "      <th>STATE</th>\n",
       "      <th>ZIP CODE</th>\n",
       "      <th>...</th>\n",
       "      <th>LICENSE TERM START DATE</th>\n",
       "      <th>LICENSE TERM EXPIRATION DATE</th>\n",
       "      <th>LICENSE APPROVED FOR ISSUANCE</th>\n",
       "      <th>DATE ISSUED</th>\n",
       "      <th>LICENSE STATUS</th>\n",
       "      <th>LICENSE STATUS CHANGE DATE</th>\n",
       "      <th>SSA</th>\n",
       "      <th>LATITUDE</th>\n",
       "      <th>LONGITUDE</th>\n",
       "      <th>LOCATION</th>\n",
       "    </tr>\n",
       "  </thead>\n",
       "  <tbody>\n",
       "    <tr>\n",
       "      <th>0</th>\n",
       "      <td>22308-20060816</td>\n",
       "      <td>1723393</td>\n",
       "      <td>29481</td>\n",
       "      <td>1</td>\n",
       "      <td>BELL OIL TERMINAL INC</td>\n",
       "      <td>Bell Oil Terminal LLC</td>\n",
       "      <td>3741 S PULASKI RD  1</td>\n",
       "      <td>CHICAGO</td>\n",
       "      <td>IL</td>\n",
       "      <td>60623</td>\n",
       "      <td>...</td>\n",
       "      <td>08/16/2006</td>\n",
       "      <td>08/15/2007</td>\n",
       "      <td>08/10/2006</td>\n",
       "      <td>08/11/2006</td>\n",
       "      <td>AAI</td>\n",
       "      <td>NaN</td>\n",
       "      <td>NaN</td>\n",
       "      <td>41.825320</td>\n",
       "      <td>-87.723960</td>\n",
       "      <td>(41.82531992987547, -87.72395999659746)</td>\n",
       "    </tr>\n",
       "    <tr>\n",
       "      <th>1</th>\n",
       "      <td>1620668-20160516</td>\n",
       "      <td>2455262</td>\n",
       "      <td>295026</td>\n",
       "      <td>1</td>\n",
       "      <td>BUCCI BIG &amp; TALL INC.</td>\n",
       "      <td>BUCCI BIG &amp; TALL INC.</td>\n",
       "      <td>558 W ROOSEVELT RD</td>\n",
       "      <td>CHICAGO</td>\n",
       "      <td>IL</td>\n",
       "      <td>60607</td>\n",
       "      <td>...</td>\n",
       "      <td>05/16/2016</td>\n",
       "      <td>05/15/2018</td>\n",
       "      <td>05/18/2016</td>\n",
       "      <td>08/30/2016</td>\n",
       "      <td>AAI</td>\n",
       "      <td>NaN</td>\n",
       "      <td>NaN</td>\n",
       "      <td>41.867339</td>\n",
       "      <td>-87.641590</td>\n",
       "      <td>(41.86733856638269, -87.64159005699716)</td>\n",
       "    </tr>\n",
       "    <tr>\n",
       "      <th>2</th>\n",
       "      <td>2368602-20160616</td>\n",
       "      <td>2460909</td>\n",
       "      <td>291461</td>\n",
       "      <td>3</td>\n",
       "      <td>PROJECT: VISION , INC.</td>\n",
       "      <td>PROJECT : VISION , INC</td>\n",
       "      <td>2301 S ARCHER AVE 1 1</td>\n",
       "      <td>CHICAGO</td>\n",
       "      <td>IL</td>\n",
       "      <td>60616</td>\n",
       "      <td>...</td>\n",
       "      <td>06/16/2016</td>\n",
       "      <td>06/15/2017</td>\n",
       "      <td>06/21/2016</td>\n",
       "      <td>06/22/2016</td>\n",
       "      <td>AAC</td>\n",
       "      <td>08/30/2016</td>\n",
       "      <td>NaN</td>\n",
       "      <td>41.850843</td>\n",
       "      <td>-87.638734</td>\n",
       "      <td>(41.85084294374687, -87.63873424399071)</td>\n",
       "    </tr>\n",
       "    <tr>\n",
       "      <th>3</th>\n",
       "      <td>2060891-20141016</td>\n",
       "      <td>2353257</td>\n",
       "      <td>357247</td>\n",
       "      <td>1</td>\n",
       "      <td>FOLASHADE'S CLEANING SERVICE INC.</td>\n",
       "      <td>FOLASHADE'S CLEANING SERVICE INC.</td>\n",
       "      <td>1965  BERNICE RD 1 1SW</td>\n",
       "      <td>LANSING</td>\n",
       "      <td>IL</td>\n",
       "      <td>60438</td>\n",
       "      <td>...</td>\n",
       "      <td>10/16/2014</td>\n",
       "      <td>10/15/2016</td>\n",
       "      <td>04/01/2016</td>\n",
       "      <td>04/01/2016</td>\n",
       "      <td>AAI</td>\n",
       "      <td>NaN</td>\n",
       "      <td>38.0</td>\n",
       "      <td>41.951316</td>\n",
       "      <td>-87.678586</td>\n",
       "      <td>(41.95131555606832, -87.67858578019546)</td>\n",
       "    </tr>\n",
       "    <tr>\n",
       "      <th>4</th>\n",
       "      <td>1144216-20070516</td>\n",
       "      <td>1804790</td>\n",
       "      <td>147</td>\n",
       "      <td>63</td>\n",
       "      <td>WALGREEN CO.</td>\n",
       "      <td>Walgreens # 05192</td>\n",
       "      <td>9148 S COMMERCIAL AVE 1ST</td>\n",
       "      <td>CHICAGO</td>\n",
       "      <td>IL</td>\n",
       "      <td>60617</td>\n",
       "      <td>...</td>\n",
       "      <td>05/16/2007</td>\n",
       "      <td>05/15/2008</td>\n",
       "      <td>05/10/2007</td>\n",
       "      <td>05/11/2007</td>\n",
       "      <td>AAI</td>\n",
       "      <td>NaN</td>\n",
       "      <td>5.0</td>\n",
       "      <td>41.728622</td>\n",
       "      <td>-87.551366</td>\n",
       "      <td>(41.72862173556932, -87.55136646594693)</td>\n",
       "    </tr>\n",
       "  </tbody>\n",
       "</table>\n",
       "<p>5 rows × 34 columns</p>\n",
       "</div>"
      ],
      "text/plain": [
       "                 ID  LICENSE ID  ACCOUNT NUMBER  SITE NUMBER  \\\n",
       "0    22308-20060816     1723393           29481            1   \n",
       "1  1620668-20160516     2455262          295026            1   \n",
       "2  2368602-20160616     2460909          291461            3   \n",
       "3  2060891-20141016     2353257          357247            1   \n",
       "4  1144216-20070516     1804790             147           63   \n",
       "\n",
       "                          LEGAL NAME             DOING BUSINESS AS NAME  \\\n",
       "0              BELL OIL TERMINAL INC              Bell Oil Terminal LLC   \n",
       "1              BUCCI BIG & TALL INC.              BUCCI BIG & TALL INC.   \n",
       "2             PROJECT: VISION , INC.             PROJECT : VISION , INC   \n",
       "3  FOLASHADE'S CLEANING SERVICE INC.  FOLASHADE'S CLEANING SERVICE INC.   \n",
       "4                       WALGREEN CO.                  Walgreens # 05192   \n",
       "\n",
       "                     ADDRESS     CITY STATE ZIP CODE  \\\n",
       "0       3741 S PULASKI RD  1  CHICAGO    IL    60623   \n",
       "1         558 W ROOSEVELT RD  CHICAGO    IL    60607   \n",
       "2      2301 S ARCHER AVE 1 1  CHICAGO    IL    60616   \n",
       "3     1965  BERNICE RD 1 1SW  LANSING    IL    60438   \n",
       "4  9148 S COMMERCIAL AVE 1ST  CHICAGO    IL    60617   \n",
       "\n",
       "                    ...                     LICENSE TERM START DATE  \\\n",
       "0                   ...                                  08/16/2006   \n",
       "1                   ...                                  05/16/2016   \n",
       "2                   ...                                  06/16/2016   \n",
       "3                   ...                                  10/16/2014   \n",
       "4                   ...                                  05/16/2007   \n",
       "\n",
       "   LICENSE TERM EXPIRATION DATE LICENSE APPROVED FOR ISSUANCE  DATE ISSUED  \\\n",
       "0                    08/15/2007                    08/10/2006   08/11/2006   \n",
       "1                    05/15/2018                    05/18/2016   08/30/2016   \n",
       "2                    06/15/2017                    06/21/2016   06/22/2016   \n",
       "3                    10/15/2016                    04/01/2016   04/01/2016   \n",
       "4                    05/15/2008                    05/10/2007   05/11/2007   \n",
       "\n",
       "   LICENSE STATUS LICENSE STATUS CHANGE DATE   SSA   LATITUDE  LONGITUDE  \\\n",
       "0             AAI                        NaN   NaN  41.825320 -87.723960   \n",
       "1             AAI                        NaN   NaN  41.867339 -87.641590   \n",
       "2             AAC                 08/30/2016   NaN  41.850843 -87.638734   \n",
       "3             AAI                        NaN  38.0  41.951316 -87.678586   \n",
       "4             AAI                        NaN   5.0  41.728622 -87.551366   \n",
       "\n",
       "                                  LOCATION  \n",
       "0  (41.82531992987547, -87.72395999659746)  \n",
       "1  (41.86733856638269, -87.64159005699716)  \n",
       "2  (41.85084294374687, -87.63873424399071)  \n",
       "3  (41.95131555606832, -87.67858578019546)  \n",
       "4  (41.72862173556932, -87.55136646594693)  \n",
       "\n",
       "[5 rows x 34 columns]"
      ]
     },
     "execution_count": 2,
     "metadata": {},
     "output_type": "execute_result"
    }
   ],
   "source": [
    "file1=pd.read_csv('Business_Licenses.csv')\n",
    "# file2=pd.read_csv('Sidewalk_Cafe_Permits.csv')\n",
    "\n",
    "df1=pd.DataFrame(file1)\n",
    "# df2=pd.DataFrame(file2)\n",
    "df1.head()"
   ]
  },
  {
   "cell_type": "code",
   "execution_count": 50,
   "metadata": {},
   "outputs": [],
   "source": [
    "df=df1[['ACCOUNT NUMBER','DOING BUSINESS AS NAME','ADDRESS','CITY','STATE','ZIP CODE','LICENSE DESCRIPTION',\n",
    "       'BUSINESS ACTIVITY ID','BUSINESS ACTIVITY','APPLICATION TYPE','LICENSE TERM START DATE',\n",
    "       'LICENSE TERM EXPIRATION DATE','DATE ISSUED', 'LICENSE STATUS','LATITUDE', 'LONGITUDE', 'LOCATION']]\n",
    "\n",
    "df=df.loc[(df['BUSINESS ACTIVITY ID']=='775')|\n",
    "          (df['BUSINESS ACTIVITY ID']=='782') |\n",
    "         (df['BUSINESS ACTIVITY ID']=='735')]\n",
    "\n",
    "df['license_id']=df.reset_index().index"
   ]
  },
  {
   "cell_type": "code",
   "execution_count": 52,
   "metadata": {},
   "outputs": [],
   "source": [
    "df['Expiration']=pd.to_datetime(df['LICENSE TERM EXPIRATION DATE']).dt.year"
   ]
  },
  {
   "cell_type": "code",
   "execution_count": 53,
   "metadata": {},
   "outputs": [],
   "source": [
    "df['is_active']=[True if value>2018 else False for value in df['Expiration']]\n"
   ]
  },
  {
   "cell_type": "code",
   "execution_count": 54,
   "metadata": {},
   "outputs": [],
   "source": [
    "active_df=df[df['is_active']==True].sort_values('Expiration',\n",
    "                                                ascending=False).drop_duplicates(subset=['ACCOUNT NUMBER'])\n",
    "active_df['active_id']=active_df.reset_index().index"
   ]
  },
  {
   "cell_type": "code",
   "execution_count": 59,
   "metadata": {},
   "outputs": [],
   "source": [
    "\n",
    "active_licenses_table=active_df[['active_id','license_id','LICENSE DESCRIPTION','BUSINESS ACTIVITY ID',\n",
    "                                 'BUSINESS ACTIVITY','LICENSE TERM START DATE','LICENSE TERM EXPIRATION DATE']]\n",
    "\n",
    "licenses_table=df[['license_id','LICENSE DESCRIPTION','BUSINESS ACTIVITY ID','BUSINESS ACTIVITY','APPLICATION TYPE',\n",
    "                    'DATE ISSUED']]\n",
    "\n",
    "active_locations_table=active_df[['active_id','DOING BUSINESS AS NAME','LATITUDE','LONGITUDE','ADDRESS','CITY','STATE',\n",
    "                          'ZIP CODE']]"
   ]
  },
  {
   "cell_type": "code",
   "execution_count": 57,
   "metadata": {},
   "outputs": [],
   "source": [
    "conn = 'mongodb://localhost:27017'\n",
    "client = pymongo.MongoClient(conn)"
   ]
  },
  {
   "cell_type": "code",
   "execution_count": 58,
   "metadata": {},
   "outputs": [],
   "source": [
    "db = client.restaurants_db\n",
    "\n"
   ]
  },
  {
   "cell_type": "code",
   "execution_count": 60,
   "metadata": {},
   "outputs": [
    {
     "data": {
      "text/plain": [
       "<pymongo.results.InsertManyResult at 0x1e5e7e44888>"
      ]
     },
     "execution_count": 60,
     "metadata": {},
     "output_type": "execute_result"
    }
   ],
   "source": [
    "collection = db.active_licenses\n",
    "data=active_licenses_table.to_dict(orient='records')\n",
    "collection.insert_many(data)"
   ]
  },
  {
   "cell_type": "code",
   "execution_count": 61,
   "metadata": {},
   "outputs": [
    {
     "data": {
      "text/plain": [
       "<pymongo.results.InsertManyResult at 0x1e5f0877ec8>"
      ]
     },
     "execution_count": 61,
     "metadata": {},
     "output_type": "execute_result"
    }
   ],
   "source": [
    "collection=db.licenses\n",
    "data=licenses_table.to_dict(orient='records')\n",
    "collection.insert_many(data)"
   ]
  },
  {
   "cell_type": "code",
   "execution_count": 62,
   "metadata": {},
   "outputs": [
    {
     "data": {
      "text/plain": [
       "<pymongo.results.InsertManyResult at 0x1e5e5790948>"
      ]
     },
     "execution_count": 62,
     "metadata": {},
     "output_type": "execute_result"
    }
   ],
   "source": [
    "collection=db.active_locations\n",
    "data=active_locations_table.to_dict(orient='records')\n",
    "collection.insert_many(data)"
   ]
  },
  {
   "cell_type": "code",
   "execution_count": null,
   "metadata": {},
   "outputs": [],
   "source": [
    "results = db.active_licenses.find()\n",
    "for result in results:\n",
    "    print(result)"
   ]
  },
  {
   "cell_type": "code",
   "execution_count": null,
   "metadata": {},
   "outputs": [],
   "source": []
  }
 ],
 "metadata": {
  "kernelspec": {
   "display_name": "Python 3",
   "language": "python",
   "name": "python3"
  },
  "language_info": {
   "codemirror_mode": {
    "name": "ipython",
    "version": 3
   },
   "file_extension": ".py",
   "mimetype": "text/x-python",
   "name": "python",
   "nbconvert_exporter": "python",
   "pygments_lexer": "ipython3",
   "version": "3.7.0"
  }
 },
 "nbformat": 4,
 "nbformat_minor": 2
}
