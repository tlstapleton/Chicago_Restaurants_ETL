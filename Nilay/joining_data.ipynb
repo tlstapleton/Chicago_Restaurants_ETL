{
 "cells": [
  {
   "cell_type": "code",
   "execution_count": 2,
   "metadata": {},
   "outputs": [],
   "source": [
    "import pymongo\n",
    "import pandas as pd"
   ]
  },
  {
   "cell_type": "code",
   "execution_count": 16,
   "metadata": {},
   "outputs": [
    {
     "data": {
      "text/html": [
       "<div>\n",
       "<style scoped>\n",
       "    .dataframe tbody tr th:only-of-type {\n",
       "        vertical-align: middle;\n",
       "    }\n",
       "\n",
       "    .dataframe tbody tr th {\n",
       "        vertical-align: top;\n",
       "    }\n",
       "\n",
       "    .dataframe thead th {\n",
       "        text-align: right;\n",
       "    }\n",
       "</style>\n",
       "<table border=\"1\" class=\"dataframe\">\n",
       "  <thead>\n",
       "    <tr style=\"text-align: right;\">\n",
       "      <th></th>\n",
       "      <th>name</th>\n",
       "      <th>address1</th>\n",
       "      <th>city</th>\n",
       "      <th>state</th>\n",
       "      <th>zip_code</th>\n",
       "      <th>latitude</th>\n",
       "      <th>longitude</th>\n",
       "      <th>review_count</th>\n",
       "      <th>rating</th>\n",
       "      <th>price</th>\n",
       "    </tr>\n",
       "  </thead>\n",
       "  <tbody>\n",
       "    <tr>\n",
       "      <th>0</th>\n",
       "      <td>Girl &amp; the Goat</td>\n",
       "      <td>809 W Randolph St</td>\n",
       "      <td>Chicago</td>\n",
       "      <td>IL</td>\n",
       "      <td>60607</td>\n",
       "      <td>41.884176</td>\n",
       "      <td>-87.647944</td>\n",
       "      <td>7979</td>\n",
       "      <td>4.5</td>\n",
       "      <td>$$$</td>\n",
       "    </tr>\n",
       "    <tr>\n",
       "      <th>1</th>\n",
       "      <td>The Purple Pig</td>\n",
       "      <td>500 N Michigan Ave</td>\n",
       "      <td>Chicago</td>\n",
       "      <td>IL</td>\n",
       "      <td>60611</td>\n",
       "      <td>41.891020</td>\n",
       "      <td>-87.624562</td>\n",
       "      <td>6538</td>\n",
       "      <td>4.0</td>\n",
       "      <td>$$</td>\n",
       "    </tr>\n",
       "    <tr>\n",
       "      <th>2</th>\n",
       "      <td>Au Cheval</td>\n",
       "      <td>800 W Randolph St</td>\n",
       "      <td>Chicago</td>\n",
       "      <td>IL</td>\n",
       "      <td>60607</td>\n",
       "      <td>41.884660</td>\n",
       "      <td>-87.647668</td>\n",
       "      <td>6038</td>\n",
       "      <td>4.5</td>\n",
       "      <td>$$</td>\n",
       "    </tr>\n",
       "    <tr>\n",
       "      <th>3</th>\n",
       "      <td>Wildberry Pancakes and Cafe</td>\n",
       "      <td>130 E Randolph St</td>\n",
       "      <td>Chicago</td>\n",
       "      <td>IL</td>\n",
       "      <td>60601</td>\n",
       "      <td>41.884668</td>\n",
       "      <td>-87.622880</td>\n",
       "      <td>6011</td>\n",
       "      <td>4.5</td>\n",
       "      <td>$$</td>\n",
       "    </tr>\n",
       "    <tr>\n",
       "      <th>4</th>\n",
       "      <td>Lou Malnati's Pizzeria</td>\n",
       "      <td>439 N Wells St</td>\n",
       "      <td>Chicago</td>\n",
       "      <td>IL</td>\n",
       "      <td>60654</td>\n",
       "      <td>41.890357</td>\n",
       "      <td>-87.633704</td>\n",
       "      <td>5287</td>\n",
       "      <td>4.0</td>\n",
       "      <td>$$</td>\n",
       "    </tr>\n",
       "  </tbody>\n",
       "</table>\n",
       "</div>"
      ],
      "text/plain": [
       "                          name            address1     city state  zip_code  \\\n",
       "0              Girl & the Goat   809 W Randolph St  Chicago    IL     60607   \n",
       "1               The Purple Pig  500 N Michigan Ave  Chicago    IL     60611   \n",
       "2                    Au Cheval   800 W Randolph St  Chicago    IL     60607   \n",
       "3  Wildberry Pancakes and Cafe   130 E Randolph St  Chicago    IL     60601   \n",
       "4       Lou Malnati's Pizzeria      439 N Wells St  Chicago    IL     60654   \n",
       "\n",
       "    latitude  longitude  review_count  rating price  \n",
       "0  41.884176 -87.647944          7979     4.5   $$$  \n",
       "1  41.891020 -87.624562          6538     4.0    $$  \n",
       "2  41.884660 -87.647668          6038     4.5    $$  \n",
       "3  41.884668 -87.622880          6011     4.5    $$  \n",
       "4  41.890357 -87.633704          5287     4.0    $$  "
      ]
     },
     "execution_count": 16,
     "metadata": {},
     "output_type": "execute_result"
    }
   ],
   "source": [
    "df1=pd.DataFrame(pd.read_csv('active_licenses.csv'))\n",
    "df2=pd.DataFrame(pd.read_csv('../Toni_Yelp/Extracted_Yelp_Data.csv'))\n",
    "df2=df2[['name','address1','city','state','zip_code','latitude','longitude','review_count','rating','price']]\n",
    "df2.head()"
   ]
  },
  {
   "cell_type": "code",
   "execution_count": 17,
   "metadata": {},
   "outputs": [],
   "source": [
    "df1=df1.rename(columns=str.lower)\n",
    "df1['address']=df1['address'].str.lower()\n",
    "df2['address1']=df2['address1'].str.lower()\n"
   ]
  },
  {
   "cell_type": "code",
   "execution_count": 18,
   "metadata": {},
   "outputs": [],
   "source": [
    "df1['address_0']=df1['address'].str.split(' ').str[0]+' '+df1['address'].str.split(' ').str[1]+' '+df1['address'].str.split(' ').str[2]+' '+df1['address'].str.split(' ').str[3]\n"
   ]
  },
  {
   "cell_type": "code",
   "execution_count": 19,
   "metadata": {},
   "outputs": [
    {
     "data": {
      "text/plain": [
       "unnamed: 0                      773\n",
       "unnamed: 0.1                    773\n",
       "unnamed: 0.1.1                  773\n",
       "unnamed: 0.1.1.1                773\n",
       "account number                  773\n",
       "doing business as name          773\n",
       "address                         773\n",
       "city_x                          773\n",
       "state_x                         773\n",
       "zip code                        771\n",
       "license description             773\n",
       "business activity id            773\n",
       "business activity               773\n",
       "application type                773\n",
       "license term start date         773\n",
       "license term expiration date    773\n",
       "date issued                     773\n",
       "license status                  773\n",
       "latitude_x                      757\n",
       "longitude_x                     757\n",
       "location                        757\n",
       "license_id                      773\n",
       "expiration                      773\n",
       "is_active                       773\n",
       "active_id                       773\n",
       "address_0                       773\n",
       "name                            773\n",
       "address1                        773\n",
       "city_y                          773\n",
       "state_y                         773\n",
       "zip_code                        773\n",
       "latitude_y                      773\n",
       "longitude_y                     773\n",
       "review_count                    773\n",
       "rating                          773\n",
       "price                           773\n",
       "dtype: int64"
      ]
     },
     "execution_count": 19,
     "metadata": {},
     "output_type": "execute_result"
    }
   ],
   "source": [
    "merge_df=pd.merge(df1,df2,how='inner',left_on='address_0',right_on='address1')\n",
    "merge_df.count()"
   ]
  },
  {
   "cell_type": "code",
   "execution_count": 21,
   "metadata": {},
   "outputs": [
    {
     "data": {
      "text/plain": [
       "Index(['unnamed: 0', 'unnamed: 0.1', 'unnamed: 0.1.1', 'unnamed: 0.1.1.1',\n",
       "       'account number', 'doing business as name', 'address', 'city_x',\n",
       "       'state_x', 'zip code', 'license description', 'business activity id',\n",
       "       'business activity', 'application type', 'license term start date',\n",
       "       'license term expiration date', 'date issued', 'license status',\n",
       "       'latitude_x', 'longitude_x', 'location', 'license_id', 'expiration',\n",
       "       'is_active', 'active_id', 'address_0', 'name', 'address1', 'city_y',\n",
       "       'state_y', 'zip_code', 'latitude_y', 'longitude_y', 'review_count',\n",
       "       'rating', 'price'],\n",
       "      dtype='object')"
      ]
     },
     "execution_count": 21,
     "metadata": {},
     "output_type": "execute_result"
    }
   ],
   "source": [
    "merge_df.columns"
   ]
  },
  {
   "cell_type": "code",
   "execution_count": 24,
   "metadata": {},
   "outputs": [],
   "source": [
    "new_df=merge_df[['doing business as name','address','city_x','state_x','zip_code','license description',\n",
    "                'business activity id','business activity','application type','date issued',\n",
    "                 'expiration','latitude_x','latitude_y','license_id','active_id','name','review_count','rating',\n",
    "                'price']]\n",
    "\n",
    "new_df.to_csv('joined_table.csv')"
   ]
  },
  {
   "cell_type": "code",
   "execution_count": null,
   "metadata": {},
   "outputs": [],
   "source": []
  }
 ],
 "metadata": {
  "kernelspec": {
   "display_name": "Python 3",
   "language": "python",
   "name": "python3"
  },
  "language_info": {
   "codemirror_mode": {
    "name": "ipython",
    "version": 3
   },
   "file_extension": ".py",
   "mimetype": "text/x-python",
   "name": "python",
   "nbconvert_exporter": "python",
   "pygments_lexer": "ipython3",
   "version": "3.7.0"
  }
 },
 "nbformat": 4,
 "nbformat_minor": 2
}
