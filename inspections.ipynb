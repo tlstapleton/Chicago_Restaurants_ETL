{
 "cells": [
  {
   "cell_type": "code",
   "execution_count": null,
   "metadata": {},
   "outputs": [],
   "source": [
    "import pandas as pd\n"
   ]
  },
  {
   "cell_type": "code",
   "execution_count": null,
   "metadata": {},
   "outputs": [],
   "source": [
    "csv_file = 'resources/food_inspections.csv'\n",
    "inspections = pd.read_csv(csv_file)\n",
    "inspections[inspections['City']=='Chicago']\n",
    "inspections"
   ]
  },
  {
   "cell_type": "code",
   "execution_count": null,
   "metadata": {},
   "outputs": [],
   "source": [
    "inspections_edit = inspections[['AKA Name', 'License #', 'Facility Type', 'Inspection Date', \n",
    "                                'Results', 'Latitude', 'Longitude']]\n",
    "inspections_transform = inspections_edit.rename(columns={\n",
    "    'AKA Name': 'name',\n",
    "    'License #': 'License #',\n",
    "    'Facility Type': 'Facility Type',\n",
    "    'Inspection Date': 'Inspection Date',\n",
    "    'Results': 'Results',\n",
    "    'Latitude': 'latitude',\n",
    "    'Longitude': 'longitude'\n",
    "})\n",
    "inspections_transform.head()"
   ]
  },
  {
   "cell_type": "code",
   "execution_count": null,
   "metadata": {},
   "outputs": [],
   "source": [
    "inspections_transform.groupby('License #').head()"
   ]
  },
  {
   "cell_type": "code",
   "execution_count": null,
   "metadata": {},
   "outputs": [],
   "source": []
  }
 ],
 "metadata": {
  "kernelspec": {
   "display_name": "Python 3",
   "language": "python",
   "name": "python3"
  },
  "language_info": {
   "codemirror_mode": {
    "name": "ipython",
    "version": 3
   },
   "file_extension": ".py",
   "mimetype": "text/x-python",
   "name": "python",
   "nbconvert_exporter": "python",
   "pygments_lexer": "ipython3",
   "version": "3.7.0"
  }
 },
 "nbformat": 4,
 "nbformat_minor": 2
}
